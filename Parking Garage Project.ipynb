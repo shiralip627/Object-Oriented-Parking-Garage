{
  "cells": [
    {
      "cell_type": "markdown",
      "metadata": {
        "id": "H2CNfkPQ_cw-"
      },
      "source": [
        "# Parking Garage Project\n",
        "\n",
        "Your assignment for today is to create a parking garage class to get more familiar with Object Oriented Programming(OOP).\n",
        "\n",
        "Your parking gargage class should have the following methods:\n",
        "- takeTicket\n",
        "   - This should decrease the amount of tickets available by 1\n",
        "   - This should decrease the amount of parkingSpaces available by 1\n",
        "- payForParking\n",
        "   - Display an input that waits for an amount from the user and store it in a variable\n",
        "   - If the payment variable is not empty then ->  display a message to the user that their ticket has been paid and they have 15mins to leave\n",
        "   - This should update the \"currentTicket\" dictionary key \"paid\" to True\n",
        "-leaveGarage\n",
        "   - If the ticket has been paid, display a message of \"Thank You, have a nice day\"\n",
        "   - If the ticket has not been paid, display an input prompt for payment\n",
        "      - Once paid, display message \"Thank you, have a nice day!\"\n",
        "   - Update parkingSpaces list to increase by 1\n",
        "   - Update tickets list to increase by 1\n",
        "\n",
        "You will need a few attributes as well:\n",
        "- tickets -> list\n",
        "- parkingSpaces -> list\n",
        "- currentTicket -> dictionary"
      ]
    },
    {
      "cell_type": "code",
      "execution_count": null,
      "metadata": {
        "id": "lADwIy6w_cxB",
        "outputId": "59f7ca26-8ede-4791-ad21-f5d3ca4a06d1",
        "colab": {
          "base_uri": "https://localhost:8080/"
        }
      },
      "outputs": [
        {
          "output_type": "stream",
          "name": "stdout",
          "text": [
            "Your ticket number is 5. Please park in space number C1.\n"
          ]
        }
      ],
      "source": [
        "class ParkingGarage:\n",
        "    def __init__(self, tickets, parkingSpaces):\n",
        "        self.tickets = tickets\n",
        "        self.parkingSpaces = parkingSpaces\n",
        "        self.currentTicket = {}\n",
        "\n",
        "    def takeTicket(self):\n",
        "        if self.tickets:\n",
        "            ticket = self.tickets.pop()\n",
        "            space = self.parkingSpaces.pop()\n",
        "            self.currentTicket[ticket] = {'paid': False, 'space': space}\n",
        "            print(f\"Your ticket number is {ticket}. Please park in space number {space}.\")\n",
        "        else:\n",
        "            print(\"Parking garage is full. Sorry, no tickets available.\")\n",
        "\n",
        "    def payForParking(self):\n",
        "        ticket_num = input(\"Please enter your ticket number: \")\n",
        "        if ticket_num in self.currentTicket:\n",
        "            if not self.currentTicket[ticket_num]['paid']:\n",
        "                payment = input(\"Enter payment amount: \")\n",
        "                if payment:\n",
        "                    self.currentTicket[ticket_num]['paid'] = True\n",
        "                    print(\"Payment successful. You have 15 minutes to leave.\")\n",
        "                else:\n",
        "                    print(\"No payment entered.\")\n",
        "            else:\n",
        "                print(\"This ticket has already been paid.\")\n",
        "        else:\n",
        "            print(\"Invalid ticket number.\")\n",
        "\n",
        "    def leaveGarage(self):\n",
        "        ticket_num = input(\"Please enter your ticket number: \")\n",
        "        if ticket_num in self.currentTicket:\n",
        "            if self.currentTicket[ticket_num]['paid']:\n",
        "                print(\"Thank you, have a nice day!\")\n",
        "                self.parkingSpaces.append(self.currentTicket[ticket_num]['space'])\n",
        "                self.tickets.append(ticket_num)\n",
        "                del self.currentTicket[ticket_num]\n",
        "            else:\n",
        "                payment = input(\"You haven't paid for your ticket yet. Please enter payment: \")\n",
        "                if payment:\n",
        "                    self.currentTicket[ticket_num]['paid'] = True\n",
        "                    print(\"Payment successful. Thank you, have a nice day!\")\n",
        "                    self.parkingSpaces.append(self.currentTicket[ticket_num]['space'])\n",
        "                    self.tickets.append(ticket_num)\n",
        "                    del self.currentTicket[ticket_num]\n",
        "                else:\n",
        "                    print(\"No payment entered.\")\n",
        "        else:\n",
        "            print(\"Invalid ticket number.\")\n",
        "\n",
        "tickets_available = ['1', '2', '3', '4', '5']\n",
        "parking_spaces_available = ['A1', 'A2', 'B1', 'B2', 'C1']\n",
        "\n",
        "garage = ParkingGarage(tickets_available, parking_spaces_available)\n",
        "\n",
        "garage.takeTicket()\n",
        "garage.payForParking()\n",
        "garage.leaveGarage()"
      ]
    }
  ],
  "metadata": {
    "kernelspec": {
      "display_name": "Python 3",
      "language": "python",
      "name": "python3"
    },
    "language_info": {
      "codemirror_mode": {
        "name": "ipython",
        "version": 3
      },
      "file_extension": ".py",
      "mimetype": "text/x-python",
      "name": "python",
      "nbconvert_exporter": "python",
      "pygments_lexer": "ipython3",
      "version": "3.7.3"
    },
    "colab": {
      "provenance": []
    }
  },
  "nbformat": 4,
  "nbformat_minor": 0
}